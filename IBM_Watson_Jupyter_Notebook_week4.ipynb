{
    "cells": [
        {
            "cell_type": "markdown",
            "metadata": {
                "collapsed": true
            },
            "source": "# My Jupyter Notebook in IBM Watson Studio\n### by **Anthony Joyce**"
        },
        {
            "cell_type": "markdown",
            "metadata": {},
            "source": "Desired Occupation: Data Analyst/Meteorological Data Scientist"
        },
        {
            "cell_type": "markdown",
            "metadata": {},
            "source": "_I want to be a data scientist because I have a fondness for analyzing and understanding data. I enjoy solving analytical problems using various innovative computer-based approaches and I am passionate about about incorporating technology into my work._"
        },
        {
            "cell_type": "markdown",
            "metadata": {},
            "source": "### The code below prints 6 random numbers between the interval 1 and 20."
        },
        {
            "cell_type": "code",
            "execution_count": 2,
            "metadata": {},
            "outputs": [
                {
                    "data": {
                        "text/plain": "array([ 8,  7,  2, 15,  5, 19])"
                    },
                    "execution_count": 2,
                    "metadata": {},
                    "output_type": "execute_result"
                }
            ],
            "source": "import numpy as np\n\nrandnums = np.random.randint(1, 20, 6)\nrandnums"
        },
        {
            "cell_type": "markdown",
            "metadata": {},
            "source": "~This is very wrong. Please cross this out.~\n\n##### This is my grocery list:\n1. milk\n2. eggs\n3. butter\n\n[Link to amazon's homepage](https://www.amazon.com)"
        },
        {
            "cell_type": "code",
            "execution_count": null,
            "metadata": {},
            "outputs": [],
            "source": ""
        }
    ],
    "metadata": {
        "kernelspec": {
            "display_name": "Python 3.6",
            "language": "python",
            "name": "python3"
        },
        "language_info": {
            "codemirror_mode": {
                "name": "ipython",
                "version": 3
            },
            "file_extension": ".py",
            "mimetype": "text/x-python",
            "name": "python",
            "nbconvert_exporter": "python",
            "pygments_lexer": "ipython3",
            "version": "3.6.9"
        }
    },
    "nbformat": 4,
    "nbformat_minor": 1
}